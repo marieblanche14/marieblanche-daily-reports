{
 "cells": [
  {
   "cell_type": "code",
   "execution_count": 3,
   "id": "240be7fa-62a8-4c81-ad0a-d3dbb5cf4b65",
   "metadata": {},
   "outputs": [
    {
     "name": "stdout",
     "output_type": "stream",
     "text": [
      "[23, 29, 1.0, 2.1]\n",
      "['Olivier', 'ENGEL', 'Strasbourg']\n",
      "[1, 'Olivier', 5, 8, 'ENGEL', 10, 4, 50, 'Strasbourg']\n"
     ]
    }
   ],
   "source": [
    "my_list = [23, 29, 1.0, 2.1]\n",
    "y = [\"Olivier\", \"ENGEL\", \"Strasbourg\"] # List consisting only of characters\n",
    "z = [1, \"Olivier\", 5, 8, \"ENGEL\", 10, 4, 50, \"Strasbourg\"] # List consisting of both numbers and characters.\n",
    "print(my_list)\n",
    "print(y)\n",
    "print(z)"
   ]
  },
  {
   "cell_type": "code",
   "execution_count": 6,
   "id": "737fdf3c-3726-4cca-b5ee-22f14dc619a2",
   "metadata": {},
   "outputs": [
    {
     "name": "stdout",
     "output_type": "stream",
     "text": [
      "[1, 2, 3, 4, 5, 6, 7, 8, 9, 10, 11, 12, 13, 14]\n"
     ]
    }
   ],
   "source": [
    "x = list(range(1, 15))\n",
    "print(x) "
   ]
  },
  {
   "cell_type": "code",
   "execution_count": 10,
   "id": "e50aaed6-e882-4af3-93d2-0ee033e41d1c",
   "metadata": {},
   "outputs": [
    {
     "name": "stdout",
     "output_type": "stream",
     "text": [
      "(1, 5, 8, 10, 4, 50, 8)\n",
      "('Blanche', 'IRIZA', 'Kigali')\n",
      "(1, 'Blanche', 5, 8, 'IRIZA ', 10, 4, 50, 'Kigali')\n"
     ]
    }
   ],
   "source": [
    "x = (1, 5, 8, 10, 4, 50, 8) # Tuple consisting only of numbers\n",
    "y = (\"Blanche\", \"IRIZA\", \"Kigali\") # Tuple consisting only of characters\n",
    "z = (1, \"Blanche\", 5, 8, \"IRIZA \", 10, 4, 50, \"Kigali\") \n",
    "print(x)\n",
    "print (y)\n",
    "print(z)"
   ]
  },
  {
   "cell_type": "code",
   "execution_count": 15,
   "id": "1eb63cce-1bd7-45c9-b60d-82d8310762be",
   "metadata": {},
   "outputs": [
    {
     "name": "stdout",
     "output_type": "stream",
     "text": [
      "(1, 5, 8, 10, 4, 50, 8)\n",
      "('Blanche', 'Marie', 'Kigali')\n",
      "(1, 'Blanche', 5, 8, 'Marie', 10, 4, 50, 'Kigali')\n"
     ]
    }
   ],
   "source": [
    "a = (1, 5, 8, 10, 4, 50, 8) # Tuple consisting only of numbers\n",
    "b = (\"Blanche\", \"Marie\", \"Kigali\") # Tuple consisting only of characters\n",
    "c = (1, \"Blanche\", 5, 8, \"Marie\", 10, 4, 50, \"Kigali\") \n",
    "print(a)\n",
    "print(b)\n",
    "print(c)"
   ]
  },
  {
   "cell_type": "code",
   "execution_count": 16,
   "id": "6bea0848-dc33-409c-9f36-127024e7e5ed",
   "metadata": {},
   "outputs": [
    {
     "name": "stdout",
     "output_type": "stream",
     "text": [
      "{'orange', 'meat', 4}\n"
     ]
    }
   ],
   "source": [
    " v = [4, 4, \"orange\", \"meat\", 4, \"orange\"]\n",
    " V = set(v)\n",
    " print(V) # returns {2, 'orange', 4, 'meat'}"
   ]
  },
  {
   "cell_type": "code",
   "execution_count": 17,
   "id": "5feb7176-6314-48c4-9716-cce4f4e67ba4",
   "metadata": {},
   "outputs": [
    {
     "name": "stdout",
     "output_type": "stream",
     "text": [
      "{'name': 'Blanche', 'weight': 70, 'height': 1.75}\n",
      "{'Blanche': [25, 70, 1.75], 'Marie': [30, 65, 1.8], 'Iriza': [35, 75, 1.65]}\n"
     ]
    }
   ],
   "source": [
    "x = {'name': 'Blanche', 'weight': 70, 'height': 1.75} # Keys with unique values.\n",
    "y = {'Blanche': [25, 70, 1.75], 'Marie': [30, 65, 1.80], 'Iriza': [35, 75, 1.65]} # Key with multiple values formed by a list\n",
    "print(x)\n",
    "print(y)"
   ]
  },
  {
   "cell_type": "code",
   "execution_count": 18,
   "id": "7a8bdf52-959e-4e1c-9260-41d56860b6a8",
   "metadata": {},
   "outputs": [
    {
     "data": {
      "text/plain": [
       "([[1, 2, 3], [2, 3, 4], [3, 4, 5]], [[[1, 2], [2, 3]], [[4, 5], [5, 6]]])"
      ]
     },
     "execution_count": 18,
     "metadata": {},
     "output_type": "execute_result"
    }
   ],
   "source": [
    "w = [[1,2,3],[2,3,4],[3,4,5]] # liste à deux dimensions (liste de listes)\n",
    "\n",
    "z = [[[1,2],[2,3]],[[4,5],[5,6]]] # liste à trois dimensions (liste de listes de listes)\n",
    "\n",
    "w,z"
   ]
  },
  {
   "cell_type": "code",
   "execution_count": 24,
   "id": "15e2109f-52e8-4e6b-9a9e-7ff0c6317a55",
   "metadata": {},
   "outputs": [
    {
     "name": "stdout",
     "output_type": "stream",
     "text": [
      "['Monday', 'Tuesday', 'Wednesday', 1800, 20.357, 'Thursday', 'Friday']\n",
      "['Tuesday', 'Wednesday']\n",
      "['Tuesday', 1800, 'Thursday']\n",
      "['Friday', 'Thursday', 20.357, 1800, 'Wednesday', 'Tuesday', 'Monday']\n",
      "['Monday', 'Wednesday', 20.357, 'Friday']\n"
     ]
    }
   ],
   "source": [
    "\n",
    "x = list(['Monday', 'Tuesday', 'Wednesday', 1800, 20.357, 'Thursday', 'Friday']) # Definition of a list\n",
    "print(x) \n",
    "print(x[1:3])\n",
    "print(x[1:6:2])\n",
    "print(x[::-1])\n",
    "print(x[::2])"
   ]
  },
  {
   "cell_type": "code",
   "execution_count": 31,
   "id": "fb9326dc-92ab-442c-879a-24a3f80268ab",
   "metadata": {},
   "outputs": [
    {
     "name": "stdout",
     "output_type": "stream",
     "text": [
      "[3, 4, 5]\n",
      "[2, 3]\n",
      "[3, 4]\n"
     ]
    }
   ],
   "source": [
    "x = [[1, 2, 3], [2, 3, 4], [3, 4, 5]]\n",
    "print(x[1:][1])\n",
    "print(x[1][:2])\n",
    "print(x[1][1:])"
   ]
  },
  {
   "cell_type": "code",
   "execution_count": 33,
   "id": "e035fd52-400d-4361-910f-d01633f46413",
   "metadata": {},
   "outputs": [],
   "source": [
    "r = x[1]"
   ]
  },
  {
   "cell_type": "code",
   "execution_count": 34,
   "id": "6eeff483-41f0-46ab-a83c-93a0e699766f",
   "metadata": {},
   "outputs": [
    {
     "data": {
      "text/plain": [
       "list"
      ]
     },
     "execution_count": 34,
     "metadata": {},
     "output_type": "execute_result"
    }
   ],
   "source": [
    "type(r)"
   ]
  },
  {
   "cell_type": "code",
   "execution_count": 36,
   "id": "d208f73c-1ecc-4d77-95a2-229a8146291a",
   "metadata": {},
   "outputs": [
    {
     "data": {
      "text/plain": [
       "(2, 3)"
      ]
     },
     "execution_count": 36,
     "metadata": {},
     "output_type": "execute_result"
    }
   ],
   "source": [
    "r[0],r[1]"
   ]
  },
  {
   "cell_type": "code",
   "execution_count": 38,
   "id": "a7f8839c-8fb9-4c13-b0d3-d56a668ed5ab",
   "metadata": {},
   "outputs": [
    {
     "data": {
      "text/plain": [
       "True"
      ]
     },
     "execution_count": 38,
     "metadata": {},
     "output_type": "execute_result"
    }
   ],
   "source": [
    "r[:2] == x[1][:2]"
   ]
  },
  {
   "cell_type": "code",
   "execution_count": 41,
   "id": "85b5305a-40e6-4160-b1cc-c13d3b4f261b",
   "metadata": {},
   "outputs": [
    {
     "name": "stdout",
     "output_type": "stream",
     "text": [
      "[2, 3, 4]\n"
     ]
    }
   ],
   "source": [
    "\n",
    "print(x[1:][0])"
   ]
  },
  {
   "cell_type": "code",
   "execution_count": 48,
   "id": "df0c3a0d-aedb-4772-b694-0e10738aca6b",
   "metadata": {},
   "outputs": [
    {
     "data": {
      "text/plain": [
       "[3, 4]"
      ]
     },
     "execution_count": 48,
     "metadata": {},
     "output_type": "execute_result"
    }
   ],
   "source": [
    "x[1:][0][1:]"
   ]
  },
  {
   "cell_type": "code",
   "execution_count": 45,
   "id": "cc0cddb4-cd1d-48d2-a764-4e3589f88cb0",
   "metadata": {},
   "outputs": [
    {
     "data": {
      "text/plain": [
       "[2, 3, 4]"
      ]
     },
     "execution_count": 45,
     "metadata": {},
     "output_type": "execute_result"
    }
   ],
   "source": [
    "x[1]"
   ]
  },
  {
   "cell_type": "code",
   "execution_count": 1,
   "id": "27a722ad-58da-4e40-b2a5-c4968e918210",
   "metadata": {},
   "outputs": [
    {
     "name": "stdout",
     "output_type": "stream",
     "text": [
      "range(0, 10)\n"
     ]
    }
   ],
   "source": [
    "x = range(10) # Creates a sequence of integer values from 0 to 9\n",
    "print(x)\n"
   ]
  },
  {
   "cell_type": "code",
   "execution_count": 2,
   "id": "aa5ac63e-e8ca-404b-a7e3-a7ccc3e2041d",
   "metadata": {},
   "outputs": [
    {
     "name": "stdout",
     "output_type": "stream",
     "text": [
      "[0, 1, 2, 3, 4, 5, 6, 7, 8, 9]\n"
     ]
    }
   ],
   "source": [
    "x = range(10)\n",
    "\n",
    "print(list(x)) \n"
   ]
  }
 ],
 "metadata": {
  "kernelspec": {
   "display_name": "Python [conda env:base] *",
   "language": "python",
   "name": "conda-base-py"
  },
  "language_info": {
   "codemirror_mode": {
    "name": "ipython",
    "version": 3
   },
   "file_extension": ".py",
   "mimetype": "text/x-python",
   "name": "python",
   "nbconvert_exporter": "python",
   "pygments_lexer": "ipython3",
   "version": "3.13.5"
  }
 },
 "nbformat": 4,
 "nbformat_minor": 5
}
