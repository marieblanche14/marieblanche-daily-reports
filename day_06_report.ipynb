{
 "cells": [
  {
   "cell_type": "markdown",
   "id": "70ef934e-b92b-4ff0-a1e1-1c1256b4ef0f",
   "metadata": {},
   "source": [
    "## Flow Control "
   ]
  },
  {
   "cell_type": "markdown",
   "id": "74c32046-f7b5-4a49-af1a-47dd8cb7ef49",
   "metadata": {},
   "source": [
    "`if`...`else`"
   ]
  },
  {
   "cell_type": "code",
   "execution_count": 1,
   "id": "c29a9201-366f-49eb-90db-8a7948cb9601",
   "metadata": {},
   "outputs": [
    {
     "name": "stdout",
     "output_type": "stream",
     "text": [
      "30\n",
      "we have it\n"
     ]
    }
   ],
   "source": [
    "# if clause\n",
    "a = 30\n",
    "print(a)\n",
    "if(a > 29):\n",
    "   print(\"we have it\")\n",
    "else:\n",
    "   print(\"we don't have it\")"
   ]
  },
  {
   "cell_type": "markdown",
   "id": "ecc4ca63-37dc-41c1-a8fa-2a27ccfbf2a9",
   "metadata": {},
   "source": [
    "`if` ...`elif`.... `else`"
   ]
  },
  {
   "cell_type": "code",
   "execution_count": 2,
   "id": "1b6a3947-313a-4937-b4b3-34ad4be840f1",
   "metadata": {},
   "outputs": [
    {
     "name": "stdout",
     "output_type": "stream",
     "text": [
      "x is zero\n"
     ]
    }
   ],
   "source": [
    "x = 0\n",
    "if x > 0:\n",
    "   print(\"x is positive\")\n",
    "elif x < 0:\n",
    "   print(\"x ix negative\")\n",
    "else:\n",
    "    print(\"x is zero\")"
   ]
  },
  {
   "cell_type": "markdown",
   "id": "4a77e4e2-ce48-4715-be80-ca4e2a790511",
   "metadata": {},
   "source": [
    "### Nested clauses"
   ]
  },
  {
   "cell_type": "code",
   "execution_count": 3,
   "id": "bc841f70-05f9-4cb3-8dbc-bb57e74b67cf",
   "metadata": {},
   "outputs": [
    {
     "name": "stdout",
     "output_type": "stream",
     "text": [
      "a is greater than b\n",
      "the dif is...\n"
     ]
    }
   ],
   "source": [
    "a = 15\n",
    "b = 10 \n",
    "if a > b:\n",
    "    print(\"a is greater than b\")\n",
    "    if (a-b >5):\n",
    "        print(\"the diff is...\")\n",
    "    else:\n",
    "        print(\"the dif is...\")\n",
    "else:\n",
    "    print(\"b is greater than a\")"
   ]
  },
  {
   "cell_type": "code",
   "execution_count": 3,
   "id": "7fad7ca9-78dd-4aa2-ab3c-b24f9d6ec5ad",
   "metadata": {},
   "outputs": [
    {
     "name": "stdin",
     "output_type": "stream",
     "text": [
      "Enter value of a 1\n",
      "Enter value of b 2\n",
      "Enter value of c 1\n"
     ]
    },
    {
     "name": "stdout",
     "output_type": "stream",
     "text": [
      "-1.0 -1.0\n"
     ]
    }
   ],
   "source": [
    "import math\n",
    "\n",
    "a = int(input(\"Enter value of a\"))\n",
    "b = int(input(\"Enter value of b\"))\n",
    "c = int(input(\"Enter value of c\"))\n",
    "delta = ((b*b) - (4*a*c))\n",
    "\n",
    "if(delta > 0):\n",
    "    x1 = (-b + math.sqrt(delta))/ 2*a\n",
    "    x2 = (-b - math.sqrt(delta))/ 2*a\n",
    "    print(x1,x2)\n",
    "elif(delta == 0):\n",
    "    x1 = x2 = (-b / 2*a)\n",
    "    print(x1,x2)\n",
    "else:\n",
    "    print(\" it has no real root\") \n",
    "    \n",
    "    "
   ]
  },
  {
   "cell_type": "code",
   "execution_count": 8,
   "id": "63c5a9b2-f74c-429d-87ad-1dad489e7ec5",
   "metadata": {},
   "outputs": [
    {
     "name": "stdin",
     "output_type": "stream",
     "text": [
      "Enter value of a 1\n",
      "Enter value of b 2\n",
      "Enter value of c 1\n"
     ]
    },
    {
     "name": "stdout",
     "output_type": "stream",
     "text": [
      "We have double root: -1.0\n"
     ]
    }
   ],
   "source": [
    "a = float(input(\"Enter value of a\"))\n",
    "b = float(input(\"Enter value of b\"))\n",
    "c = float(input(\"Enter value of c\"))\n",
    "\n",
    "if a!=0:\n",
    "    delta = b*b - 4*a*c\n",
    "    if delta > 0:\n",
    "        print(\"We have two roots x1 = \", (-b-delta**0.5)/2*a), \"and x2 = \", (-b+delta**0.5/2*a)\n",
    "    elif delta == 0:\n",
    "        print(\"We have double root:\", -b/(2*a))\n",
    "    else:\n",
    "        print(\"We don't have real solution\")\n",
    "else:\n",
    "    print(\"It is not second degree equation\")"
   ]
  },
  {
   "cell_type": "markdown",
   "id": "abfcb3d2-3282-466c-9119-3d9fed5462aa",
   "metadata": {},
   "source": [
    "### Loops"
   ]
  },
  {
   "cell_type": "code",
   "execution_count": 11,
   "id": "42dfe134-cc00-4395-80a0-29b14e22fc6b",
   "metadata": {},
   "outputs": [
    {
     "name": "stdout",
     "output_type": "stream",
     "text": [
      "The value of i is 1\n",
      "The value of i is 2\n",
      "The value of i is 3\n",
      "The value of i is 4\n",
      "The value of i is 5\n",
      "The value of i is 6\n",
      "The value of i is 7\n",
      "The value of i is 8\n",
      "The value of i is 9\n"
     ]
    }
   ],
   "source": [
    "#While loop\n",
    "i = 1\n",
    "while (i < 10):\n",
    "    print(\"The value of i is\", i)\n",
    "    i = i + 1"
   ]
  },
  {
   "cell_type": "code",
   "execution_count": 12,
   "id": "a61df810-c43a-4887-b957-6bf7d0d9d633",
   "metadata": {},
   "outputs": [
    {
     "name": "stdout",
     "output_type": "stream",
     "text": [
      "0\n",
      "1\n",
      "2\n",
      "3\n",
      "4\n",
      "5\n",
      "6\n",
      "7\n",
      "8\n",
      "9\n"
     ]
    }
   ],
   "source": [
    "n = 10\n",
    "for i in range(n):\n",
    "    print(i)"
   ]
  },
  {
   "cell_type": "code",
   "execution_count": 17,
   "id": "ccedd113-2d10-4c75-b4fe-b7082c28cceb",
   "metadata": {},
   "outputs": [
    {
     "name": "stdout",
     "output_type": "stream",
     "text": [
      "M\n",
      "a\n",
      "r\n",
      "i\n",
      "e\n",
      " \n",
      "B\n",
      "l\n",
      "a\n",
      "n\n",
      "c\n",
      "h\n",
      "e\n",
      " \n",
      "I\n",
      "r\n",
      "i\n",
      "z\n",
      "a\n"
     ]
    }
   ],
   "source": [
    "for char in 'Marie Blanche Iriza':\n",
    "     print(char)"
   ]
  },
  {
   "cell_type": "code",
   "execution_count": 18,
   "id": "cda6d773-7ed6-4d05-ad1b-6e5e803a781d",
   "metadata": {},
   "outputs": [
    {
     "name": "stdout",
     "output_type": "stream",
     "text": [
      "Try again\n",
      "We found it\n",
      "Try again\n",
      "Try again\n"
     ]
    }
   ],
   "source": [
    "list_fr = [3,5, 'hello', 98]\n",
    "for i in list_fr:\n",
    "    if i == 5:\n",
    "        print(\"We found it\")\n",
    "    else:\n",
    "        print(\"Try again\")"
   ]
  },
  {
   "cell_type": "code",
   "execution_count": 22,
   "id": "d7d80561-dbe3-4170-9472-f6df1ef84924",
   "metadata": {},
   "outputs": [
    {
     "name": "stdout",
     "output_type": "stream",
     "text": [
      "The letter H is a consonant\n",
      "The letter e is a vowel\n",
      "The letter l is a consonant\n",
      "The letter l is a consonant\n",
      "The letter o is a vowel\n",
      "The letter , is a consonant\n",
      "This is likely a space\n",
      "The letter W is a consonant\n",
      "The letter o is a vowel\n",
      "The letter r is a consonant\n",
      "The letter l is a consonant\n",
      "The letter d is a consonant\n"
     ]
    }
   ],
   "source": [
    "sentence = \"Hello, World\"\n",
    "for letter in sentence:\n",
    "    if letter in \"AEIouiaeiou\":\n",
    "       print(\"The letter\", letter, \"is a vowel\")\n",
    "    elif letter == \" \":\n",
    "         print(\"This is likely a space\")\n",
    "    else:\n",
    "       print(\"The letter\",letter,\"is a consonant\")\n",
    "   "
   ]
  },
  {
   "cell_type": "code",
   "execution_count": null,
   "id": "8ccf1f80-4acf-4357-a74a-4de9b2cc1040",
   "metadata": {},
   "outputs": [],
   "source": []
  },
  {
   "cell_type": "code",
   "execution_count": null,
   "id": "7b3cb9a1-b287-4f0a-8b0d-093a177589d7",
   "metadata": {},
   "outputs": [],
   "source": []
  }
 ],
 "metadata": {
  "kernelspec": {
   "display_name": "Python [conda env:base] *",
   "language": "python",
   "name": "conda-base-py"
  },
  "language_info": {
   "codemirror_mode": {
    "name": "ipython",
    "version": 3
   },
   "file_extension": ".py",
   "mimetype": "text/x-python",
   "name": "python",
   "nbconvert_exporter": "python",
   "pygments_lexer": "ipython3",
   "version": "3.13.5"
  }
 },
 "nbformat": 4,
 "nbformat_minor": 5
}
