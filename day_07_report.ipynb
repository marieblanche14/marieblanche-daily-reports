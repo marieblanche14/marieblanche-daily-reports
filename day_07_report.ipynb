{
 "cells": [
  {
   "cell_type": "markdown",
   "id": "54366e0a-b38c-4d68-a8b3-84df538e93a6",
   "metadata": {},
   "source": [
    "## FUNCTIONS\n",
    "Built in function print and input"
   ]
  },
  {
   "cell_type": "markdown",
   "id": "8534cea6-65d8-4b55-9cdc-9cc8c23052ad",
   "metadata": {},
   "source": [
    "## User-defined\n",
    "def functionName([parameter1,parameter2,...,parameterN]):\n"
   ]
  },
  {
   "cell_type": "code",
   "execution_count": 8,
   "id": "955cb4f4-b63a-41e6-8d87-a17a512475b5",
   "metadata": {},
   "outputs": [],
   "source": [
    "def multiplication_table_8():\n",
    "    n = 1\n",
    "    while n <= 20:\n",
    "        v = n * 8\n",
    "        print(n ,  'x', 8,   '=', v,  sep=' ')\n",
    "        n = n + 1"
   ]
  },
  {
   "cell_type": "code",
   "execution_count": 9,
   "id": "3815a4a1-72cd-45f1-84fe-fbb7649dfaa6",
   "metadata": {},
   "outputs": [
    {
     "name": "stdout",
     "output_type": "stream",
     "text": [
      "1 x 8 = 8\n",
      "2 x 8 = 16\n",
      "3 x 8 = 24\n",
      "4 x 8 = 32\n",
      "5 x 8 = 40\n",
      "6 x 8 = 48\n",
      "7 x 8 = 56\n",
      "8 x 8 = 64\n",
      "9 x 8 = 72\n",
      "10 x 8 = 80\n",
      "11 x 8 = 88\n",
      "12 x 8 = 96\n",
      "13 x 8 = 104\n",
      "14 x 8 = 112\n",
      "15 x 8 = 120\n",
      "16 x 8 = 128\n",
      "17 x 8 = 136\n",
      "18 x 8 = 144\n",
      "19 x 8 = 152\n",
      "20 x 8 = 160\n"
     ]
    }
   ],
   "source": [
    "multiplication_table_8()"
   ]
  },
  {
   "cell_type": "code",
   "execution_count": 17,
   "id": "443f7d9f-19d1-4749-a3db-5de7843451b5",
   "metadata": {},
   "outputs": [
    {
     "name": "stdout",
     "output_type": "stream",
     "text": [
      "Multiplication Table for (n):\n",
      "=========================\n",
      "2 x  5 =   5\n",
      "4 x  5 =  10\n",
      "6 x  5 =  15\n",
      "8 x  5 =  20\n",
      "10 x  5 =  25\n",
      "12 x  5 =  30\n",
      "14 x  5 =  35\n",
      "16 x  5 =  40\n",
      "18 x  5 =  45\n",
      "20 x  5 =  50\n",
      "=========================\n"
     ]
    }
   ],
   "source": [
    "# An example with a nicer display\n",
    "def multiplication_table(n):\n",
    "    print(f\"Multiplication Table for (n):\")\n",
    "    print(\"=\" * 25)\n",
    "    for i in range(1, 11):\n",
    "       result = i * n\n",
    "       print(f\"{i*2} x {n:2} = {result : 3}\")\n",
    "    print('=' *25)\n",
    "\n",
    "multiplication_table(5)"
   ]
  },
  {
   "cell_type": "code",
   "execution_count": 19,
   "id": "852e39b9-f9bd-47a0-adec-5627f446174c",
   "metadata": {},
   "outputs": [],
   "source": [
    "def square(x):\n",
    "    \"\"\"\n",
    "     This function calculates the square of a given number.\n",
    "     \n",
    "     Input: The number x to be squared.\n",
    "     Output: The square of the input number\n",
    "\n",
    "    \"\"\"\n",
    "    return x**2"
   ]
  },
  {
   "cell_type": "code",
   "execution_count": 20,
   "id": "cb3443b7-1924-4f76-bfae-60770fe1ad8c",
   "metadata": {},
   "outputs": [
    {
     "data": {
      "text/plain": [
       "16"
      ]
     },
     "execution_count": 20,
     "metadata": {},
     "output_type": "execute_result"
    }
   ],
   "source": [
    "square(4)"
   ]
  },
  {
   "cell_type": "code",
   "execution_count": 21,
   "id": "22f18768-8375-4c0a-b9ae-e123a4e0d48d",
   "metadata": {},
   "outputs": [],
   "source": [
    "def area_rectangle(l,w):\n",
    "    \"\"\"\n",
    "    The function calculates the area of a rectangle.\n",
    "    Input: Two parameters(length,width) of a rectangle.\n",
    "    Output: Area of a rectangle.\n",
    "    \"\"\"\n",
    "    area = l * w\n",
    "    print(\"The area of a rectangle is : = \", area)"
   ]
  },
  {
   "cell_type": "code",
   "execution_count": 22,
   "id": "8446c4b9-91c5-41bb-a19d-97e89d999a7e",
   "metadata": {},
   "outputs": [
    {
     "name": "stdout",
     "output_type": "stream",
     "text": [
      "The area of a rectangle is : =  20\n"
     ]
    }
   ],
   "source": [
    "area_rectangle(5,4)"
   ]
  },
  {
   "cell_type": "code",
   "execution_count": null,
   "id": "b3734f8f-4825-41d5-a1f3-3502577cadab",
   "metadata": {},
   "outputs": [],
   "source": []
  }
 ],
 "metadata": {
  "kernelspec": {
   "display_name": "Python [conda env:base] *",
   "language": "python",
   "name": "conda-base-py"
  },
  "language_info": {
   "codemirror_mode": {
    "name": "ipython",
    "version": 3
   },
   "file_extension": ".py",
   "mimetype": "text/x-python",
   "name": "python",
   "nbconvert_exporter": "python",
   "pygments_lexer": "ipython3",
   "version": "3.13.5"
  }
 },
 "nbformat": 4,
 "nbformat_minor": 5
}
