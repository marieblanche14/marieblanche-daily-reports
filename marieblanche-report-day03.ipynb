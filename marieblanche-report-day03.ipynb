{
 "cells": [
  {
   "cell_type": "markdown",
   "id": "334adff2-ac02-445c-b7fc-ec7c1ec240d4",
   "metadata": {},
   "source": [
    "## Strings and Files"
   ]
  },
  {
   "cell_type": "code",
   "execution_count": 5,
   "id": "e71f50bc-99de-4c66-8729-5c51ae0c543f",
   "metadata": {},
   "outputs": [],
   "source": [
    "string_1 = \"Will you be at the meeting tonight?\"\n",
    "string_2 = \"Yes\",'he replies.'"
   ]
  },
  {
   "cell_type": "code",
   "execution_count": 6,
   "id": "46e827b1-bd6b-4a19-885a-9d98ec176507",
   "metadata": {},
   "outputs": [
    {
     "name": "stdout",
     "output_type": "stream",
     "text": [
      "Will you be at the meeting tonight?\n"
     ]
    }
   ],
   "source": [
    "print(string_1)"
   ]
  },
  {
   "cell_type": "code",
   "execution_count": 7,
   "id": "f9e99e91-e5df-49f7-853e-7f8835d3f0d0",
   "metadata": {},
   "outputs": [
    {
     "name": "stdout",
     "output_type": "stream",
     "text": [
      "('Yes', 'he replies.')\n"
     ]
    }
   ],
   "source": [
    "print(string_2)"
   ]
  },
  {
   "cell_type": "markdown",
   "id": "2f2906cd-e3c5-48e6-a513-8a34f2350c12",
   "metadata": {},
   "source": [
    "## Indexing"
   ]
  },
  {
   "cell_type": "code",
   "execution_count": null,
   "id": "ea0f8e59-70fa-46d1-8618-10561699a564",
   "metadata": {},
   "outputs": [],
   "source": []
  },
  {
   "cell_type": "code",
   "execution_count": 9,
   "id": "68723082-db25-41d8-a7ca-d00577d26d8d",
   "metadata": {},
   "outputs": [
    {
     "data": {
      "text/plain": [
       "'l'"
      ]
     },
     "execution_count": 9,
     "metadata": {},
     "output_type": "execute_result"
    }
   ],
   "source": [
    "string_1[2]"
   ]
  },
  {
   "cell_type": "code",
   "execution_count": 10,
   "id": "2e3e86d7-dca7-44e0-a332-ebb9b2305566",
   "metadata": {},
   "outputs": [
    {
     "name": "stdout",
     "output_type": "stream",
     "text": [
      "Will you be at the meeting tonight?\n",
      "The second character of my string is i\n"
     ]
    }
   ],
   "source": [
    "print(string_1)\n",
    "print(\"The second character of my string is\", string_1[1])\n"
   ]
  },
  {
   "cell_type": "code",
   "execution_count": 14,
   "id": "d619c88a-a718-4a21-9665-95dc30503afb",
   "metadata": {},
   "outputs": [
    {
     "name": "stdout",
     "output_type": "stream",
     "text": [
      "Will you be at the meeting tonight?\n",
      "The second character of my string is ?\n"
     ]
    }
   ],
   "source": [
    "print(string_1)\n",
    "print(\"The second character of my string is\", string_1[-1])"
   ]
  },
  {
   "cell_type": "markdown",
   "id": "6d762a08-9131-4e7b-bfb3-eced9f4a7eb7",
   "metadata": {},
   "source": [
    "## Slicing\n",
    "\n",
    "     string[start:stop:step]"
   ]
  },
  {
   "cell_type": "code",
   "execution_count": 15,
   "id": "80a6dd9e-e992-4cdf-b048-3138c5ec0992",
   "metadata": {},
   "outputs": [
    {
     "name": "stdout",
     "output_type": "stream",
     "text": [
      "Will you be at the meeting tonight?\n"
     ]
    },
    {
     "data": {
      "text/plain": [
       "'l o'"
      ]
     },
     "execution_count": 15,
     "metadata": {},
     "output_type": "execute_result"
    }
   ],
   "source": [
    "print(string_1)\n",
    "string_1[2:8:2]"
   ]
  },
  {
   "cell_type": "code",
   "execution_count": 16,
   "id": "0a00b1e5-5ef9-4a71-95be-fc469fbceac9",
   "metadata": {},
   "outputs": [
    {
     "data": {
      "text/plain": [
       "'jsufejgdkszjsg'"
      ]
     },
     "execution_count": 16,
     "metadata": {},
     "output_type": "execute_result"
    }
   ],
   "source": [
    "string_3 = 'hdajsufejgdkszjsgl'\n",
    "string_3[3:-1]"
   ]
  },
  {
   "cell_type": "code",
   "execution_count": 17,
   "id": "4c3a80c0-dafe-4d55-82c1-3e1402a924de",
   "metadata": {},
   "outputs": [
    {
     "data": {
      "text/plain": [
       "2"
      ]
     },
     "execution_count": 17,
     "metadata": {},
     "output_type": "execute_result"
    }
   ],
   "source": [
    "len(string_2)"
   ]
  },
  {
   "cell_type": "markdown",
   "id": "1c81a538-b9a4-41f1-9bda-90b6a0b46433",
   "metadata": {},
   "source": [
    "## Concatenation"
   ]
  },
  {
   "cell_type": "code",
   "execution_count": 20,
   "id": "93f8e5cb-f2bb-4f10-a25b-d1ca1477ef8b",
   "metadata": {},
   "outputs": [
    {
     "name": "stdout",
     "output_type": "stream",
     "text": [
      "HelloWorld\n",
      "WorldWorld\n"
     ]
    }
   ],
   "source": [
    "my_var_1 = \"Hello\"\n",
    "my_var_2 = 'World'\n",
    "concat= my_var_1 + my_var_2\n",
    "concat1 = my_var_2 + my_var_2\n",
    "print(concat)\n",
    "print(concat1)\n",
    "\n"
   ]
  },
  {
   "cell_type": "code",
   "execution_count": 19,
   "id": "b31a766f-f7fa-475b-b366-323920d93c99",
   "metadata": {},
   "outputs": [
    {
     "name": "stdout",
     "output_type": "stream",
     "text": [
      "WorldWorld\n"
     ]
    }
   ],
   "source": [
    "print(2*my_var_2)"
   ]
  },
  {
   "cell_type": "code",
   "execution_count": 21,
   "id": "d9e0e1e4-f4c1-4a33-b220-982fea43a8bc",
   "metadata": {},
   "outputs": [
    {
     "name": "stdout",
     "output_type": "stream",
     "text": [
      "World\n"
     ]
    }
   ],
   "source": [
    "print(my_var_2)"
   ]
  },
  {
   "cell_type": "code",
   "execution_count": 23,
   "id": "90174686-f311-4c73-b7e6-3dab7baf195c",
   "metadata": {},
   "outputs": [
    {
     "ename": "TypeError",
     "evalue": "can't multiply sequence by non-int of type 'float'",
     "output_type": "error",
     "traceback": [
      "\u001b[1;31m---------------------------------------------------------------------------\u001b[0m",
      "\u001b[1;31mTypeError\u001b[0m                                 Traceback (most recent call last)",
      "Cell \u001b[1;32mIn[23], line 1\u001b[0m\n\u001b[1;32m----> 1\u001b[0m \u001b[38;5;28mprint\u001b[39m(\u001b[38;5;241m2.0\u001b[39m\u001b[38;5;241m*\u001b[39mmy_var_2)\n",
      "\u001b[1;31mTypeError\u001b[0m: can't multiply sequence by non-int of type 'float'"
     ]
    }
   ],
   "source": [
    "print(2.0*my_var_2)"
   ]
  },
  {
   "cell_type": "markdown",
   "id": "e1408b91-2137-4e6d-a708-f52cf455e18c",
   "metadata": {},
   "source": [
    "2 == 2.0"
   ]
  },
  {
   "cell_type": "code",
   "execution_count": 25,
   "id": "947b99ce-8e5e-41b9-bea9-f53737dc8654",
   "metadata": {},
   "outputs": [
    {
     "data": {
      "text/plain": [
       "<function str.count>"
      ]
     },
     "execution_count": 25,
     "metadata": {},
     "output_type": "execute_result"
    }
   ],
   "source": [
    "num1 = 'my number is even'\n",
    "num1.count"
   ]
  },
  {
   "cell_type": "code",
   "execution_count": 26,
   "id": "319508e3-52ef-4f3b-9289-1cdbbadd8fa2",
   "metadata": {},
   "outputs": [
    {
     "data": {
      "text/plain": [
       "<function str.format(*args, **kwargs)>"
      ]
     },
     "execution_count": 26,
     "metadata": {},
     "output_type": "execute_result"
    }
   ],
   "source": [
    "num1.format"
   ]
  },
  {
   "cell_type": "code",
   "execution_count": 27,
   "id": "8856d055-8f6b-497d-806f-95610507a6aa",
   "metadata": {},
   "outputs": [
    {
     "data": {
      "text/plain": [
       "<function str.isnumeric()>"
      ]
     },
     "execution_count": 27,
     "metadata": {},
     "output_type": "execute_result"
    }
   ],
   "source": [
    "num1.isnumeric"
   ]
  },
  {
   "cell_type": "code",
   "execution_count": 28,
   "id": "a5bfa8b8-6d25-4470-94e9-ffa63f85efd0",
   "metadata": {},
   "outputs": [
    {
     "data": {
      "text/plain": [
       "<function str.translate(table, /)>"
      ]
     },
     "execution_count": 28,
     "metadata": {},
     "output_type": "execute_result"
    }
   ],
   "source": [
    "num1.translate"
   ]
  },
  {
   "cell_type": "code",
   "execution_count": 29,
   "id": "086a4b2a-cf12-41c1-ab01-f17622fb238f",
   "metadata": {},
   "outputs": [
    {
     "data": {
      "text/plain": [
       "<function str.capitalize()>"
      ]
     },
     "execution_count": 29,
     "metadata": {},
     "output_type": "execute_result"
    }
   ],
   "source": [
    "num1.capitalize"
   ]
  },
  {
   "cell_type": "code",
   "execution_count": 33,
   "id": "89807f78-db02-4de3-850f-ea039c399ba7",
   "metadata": {},
   "outputs": [
    {
     "data": {
      "text/plain": [
       "'My number is even'"
      ]
     },
     "execution_count": 33,
     "metadata": {},
     "output_type": "execute_result"
    }
   ],
   "source": [
    "num1.capitalize()"
   ]
  },
  {
   "cell_type": "code",
   "execution_count": 34,
   "id": "8c7653b6-353d-4a15-b7a6-583315186b9d",
   "metadata": {},
   "outputs": [
    {
     "data": {
      "text/plain": [
       "False"
      ]
     },
     "execution_count": 34,
     "metadata": {},
     "output_type": "execute_result"
    }
   ],
   "source": [
    "num1.isnumeric()\n"
   ]
  },
  {
   "cell_type": "code",
   "execution_count": null,
   "id": "1857e30e-ef93-49d8-bfb5-2d4d665d5dd8",
   "metadata": {},
   "outputs": [],
   "source": [
    "fghij\n",
    "aims class\n",
    "Rwanda 2025\n",
    "this is really cool "
   ]
  },
  {
   "cell_type": "code",
   "execution_count": 1,
   "id": "7df8cd78-484e-43e5-a8c5-1db7dba2b07d",
   "metadata": {},
   "outputs": [
    {
     "name": "stdout",
     "output_type": "stream",
     "text": [
      " Volume in drive C has no label.\n",
      " Volume Serial Number is 307B-FC31\n",
      "\n",
      " Directory of C:\\Users\\HP\\Desktop\n",
      "\n",
      "09/25/2025  12:28 PM    <DIR>          .\n",
      "09/24/2025  07:59 PM    <DIR>          ..\n",
      "09/25/2025  11:10 AM    <DIR>          .ipynb_checkpoints\n",
      "09/13/2025  09:51 PM               608 .Rhistory\n",
      "08/21/2025  03:59 PM    <DIR>          aaaaaa\n",
      "03/04/2025  10:19 PM         1,505,460 ACADEMIC TRANSCRIPTS.pdf\n",
      "08/18/2025  08:01 PM           261,303 Assignment_IPP3 (1).ipynb\n",
      "09/13/2025  11:23 PM    <DIR>          Blanche ICL 2\n",
      "04/17/2025  02:25 PM           441,410 Blanche's CV PDF.pdf\n",
      "04/17/2025  01:13 PM           229,414 Blanche's professional internship letter.pdf\n",
      "04/03/2024  12:11 PM           295,165 CURRICULUM VITAE of IRIZA.pdf\n",
      "07/25/2025  11:44 AM             1,308 Cursor.lnk\n",
      "03/04/2025  10:19 PM           754,443 DIPLOME BACHELORS.pdf\n",
      "09/10/2025  12:33 AM           225,167 doc.pdf\n",
      "09/06/2025  02:38 PM    <DIR>          ICL\n",
      "09/06/2025  04:35 PM    <DIR>          ICL_assignments_1\n",
      "09/06/2025  04:41 PM            15,332 ICL_assignments_1 (2).zip\n",
      "09/06/2025  04:40 PM            15,332 ICL_assignments_1.zip\n",
      "08/14/2024  05:00 PM             2,388 Iriza - Chrome.lnk\n",
      "04/17/2025  02:16 PM           861,260 IRIZA marie blanche CV PDF.docx\n",
      "10/21/2024  10:29 PM         1,594,815 IRIZA Thesis.pdf\n",
      "08/16/2025  07:35 PM           194,015 irizainwhite_m3.pdf\n",
      "09/25/2025  12:28 PM             9,991 marieblanche-report-day03.ipynb\n",
      "09/06/2025  11:55 AM             5,523 marieblanche_iriza_ICL1.sh\n",
      "09/23/2023  08:25 PM             2,354 Microsoft Edge.lnk\n",
      "03/05/2025  06:22 PM           211,043 Motivation letter.pdf\n",
      "03/04/2025  10:19 PM         2,310,442 PASSPORT PAGES.pdf\n",
      "03/04/2025  10:19 PM           355,696 PASSPORT.pdf\n",
      "08/22/2025  08:59 AM            21,187 pthon_extended_quiz.ipynb\n",
      "09/23/2025  09:26 PM    <DIR>          python_course\n",
      "07/25/2024  10:46 PM             1,023 Telegram.lnk\n",
      "09/05/2024  05:31 PM           351,891 To whom.pdf\n",
      "08/29/2024  11:50 PM           312,263 Transcript year 1.jpg\n",
      "03/04/2024  02:37 PM           437,929 Transcript year 2.pdf\n",
      "10/14/2024  11:03 PM           390,804 Transcript year 3.pdf\n",
      "09/18/2025  08:25 PM    <DIR>          tutorial data\n",
      "08/01/2025  11:10 PM             1,395 Visual Studio Code.lnk\n",
      "              28 File(s)     10,808,961 bytes\n",
      "               9 Dir(s)  110,664,421,376 bytes free\n"
     ]
    }
   ],
   "source": [
    "!dir"
   ]
  },
  {
   "cell_type": "code",
   "execution_count": 3,
   "id": "d0615ae7-b6af-4a49-9d52-c740b76e85c6",
   "metadata": {},
   "outputs": [
    {
     "ename": "ValueError",
     "evalue": "'textfile.txt' was not found in history, as a file, url, nor in the user namespace.",
     "output_type": "error",
     "traceback": [
      "\u001b[1;31m---------------------------------------------------------------------------\u001b[0m",
      "\u001b[1;31mNameError\u001b[0m                                 Traceback (most recent call last)",
      "File \u001b[1;32m~\\anaconda3\\Lib\\site-packages\\IPython\\core\\interactiveshell.py:3909\u001b[0m, in \u001b[0;36mInteractiveShell.find_user_code\u001b[1;34m(self, target, raw, py_only, skip_encoding_cookie, search_ns)\u001b[0m\n\u001b[0;32m   3908\u001b[0m \u001b[38;5;28;01mtry\u001b[39;00m:                                              \u001b[38;5;66;03m# User namespace\u001b[39;00m\n\u001b[1;32m-> 3909\u001b[0m     codeobj \u001b[38;5;241m=\u001b[39m \u001b[38;5;28meval\u001b[39m(target, \u001b[38;5;28mself\u001b[39m\u001b[38;5;241m.\u001b[39muser_ns)\n\u001b[0;32m   3910\u001b[0m \u001b[38;5;28;01mexcept\u001b[39;00m \u001b[38;5;167;01mException\u001b[39;00m \u001b[38;5;28;01mas\u001b[39;00m e:\n",
      "File \u001b[1;32m<string>:1\u001b[0m\n",
      "\u001b[1;31mNameError\u001b[0m: name 'textfile' is not defined",
      "\nThe above exception was the direct cause of the following exception:\n",
      "\u001b[1;31mValueError\u001b[0m                                Traceback (most recent call last)",
      "Cell \u001b[1;32mIn[3], line 1\u001b[0m\n\u001b[1;32m----> 1\u001b[0m get_ipython()\u001b[38;5;241m.\u001b[39mrun_line_magic(\u001b[38;5;124m'\u001b[39m\u001b[38;5;124mload\u001b[39m\u001b[38;5;124m'\u001b[39m, \u001b[38;5;124m'\u001b[39m\u001b[38;5;124mtextfile.txt\u001b[39m\u001b[38;5;124m'\u001b[39m)\n",
      "File \u001b[1;32m~\\anaconda3\\Lib\\site-packages\\IPython\\core\\interactiveshell.py:2480\u001b[0m, in \u001b[0;36mInteractiveShell.run_line_magic\u001b[1;34m(self, magic_name, line, _stack_depth)\u001b[0m\n\u001b[0;32m   2478\u001b[0m     kwargs[\u001b[38;5;124m'\u001b[39m\u001b[38;5;124mlocal_ns\u001b[39m\u001b[38;5;124m'\u001b[39m] \u001b[38;5;241m=\u001b[39m \u001b[38;5;28mself\u001b[39m\u001b[38;5;241m.\u001b[39mget_local_scope(stack_depth)\n\u001b[0;32m   2479\u001b[0m \u001b[38;5;28;01mwith\u001b[39;00m \u001b[38;5;28mself\u001b[39m\u001b[38;5;241m.\u001b[39mbuiltin_trap:\n\u001b[1;32m-> 2480\u001b[0m     result \u001b[38;5;241m=\u001b[39m fn(\u001b[38;5;241m*\u001b[39margs, \u001b[38;5;241m*\u001b[39m\u001b[38;5;241m*\u001b[39mkwargs)\n\u001b[0;32m   2482\u001b[0m \u001b[38;5;66;03m# The code below prevents the output from being displayed\u001b[39;00m\n\u001b[0;32m   2483\u001b[0m \u001b[38;5;66;03m# when using magics with decorator @output_can_be_silenced\u001b[39;00m\n\u001b[0;32m   2484\u001b[0m \u001b[38;5;66;03m# when the last Python token in the expression is a ';'.\u001b[39;00m\n\u001b[0;32m   2485\u001b[0m \u001b[38;5;28;01mif\u001b[39;00m \u001b[38;5;28mgetattr\u001b[39m(fn, magic\u001b[38;5;241m.\u001b[39mMAGIC_OUTPUT_CAN_BE_SILENCED, \u001b[38;5;28;01mFalse\u001b[39;00m):\n",
      "File \u001b[1;32m~\\anaconda3\\Lib\\site-packages\\IPython\\core\\magics\\code.py:361\u001b[0m, in \u001b[0;36mCodeMagics.load\u001b[1;34m(self, arg_s)\u001b[0m\n\u001b[0;32m    359\u001b[0m opts,args \u001b[38;5;241m=\u001b[39m \u001b[38;5;28mself\u001b[39m\u001b[38;5;241m.\u001b[39mparse_options(arg_s,\u001b[38;5;124m'\u001b[39m\u001b[38;5;124myns:r:\u001b[39m\u001b[38;5;124m'\u001b[39m)\n\u001b[0;32m    360\u001b[0m search_ns \u001b[38;5;241m=\u001b[39m \u001b[38;5;124m'\u001b[39m\u001b[38;5;124mn\u001b[39m\u001b[38;5;124m'\u001b[39m \u001b[38;5;129;01min\u001b[39;00m opts\n\u001b[1;32m--> 361\u001b[0m contents \u001b[38;5;241m=\u001b[39m \u001b[38;5;28mself\u001b[39m\u001b[38;5;241m.\u001b[39mshell\u001b[38;5;241m.\u001b[39mfind_user_code(args, search_ns\u001b[38;5;241m=\u001b[39msearch_ns)\n\u001b[0;32m    363\u001b[0m \u001b[38;5;28;01mif\u001b[39;00m \u001b[38;5;124m'\u001b[39m\u001b[38;5;124ms\u001b[39m\u001b[38;5;124m'\u001b[39m \u001b[38;5;129;01min\u001b[39;00m opts:\n\u001b[0;32m    364\u001b[0m     \u001b[38;5;28;01mtry\u001b[39;00m:\n",
      "File \u001b[1;32m~\\anaconda3\\Lib\\site-packages\\IPython\\core\\interactiveshell.py:3911\u001b[0m, in \u001b[0;36mInteractiveShell.find_user_code\u001b[1;34m(self, target, raw, py_only, skip_encoding_cookie, search_ns)\u001b[0m\n\u001b[0;32m   3909\u001b[0m     codeobj \u001b[38;5;241m=\u001b[39m \u001b[38;5;28meval\u001b[39m(target, \u001b[38;5;28mself\u001b[39m\u001b[38;5;241m.\u001b[39muser_ns)\n\u001b[0;32m   3910\u001b[0m \u001b[38;5;28;01mexcept\u001b[39;00m \u001b[38;5;167;01mException\u001b[39;00m \u001b[38;5;28;01mas\u001b[39;00m e:\n\u001b[1;32m-> 3911\u001b[0m     \u001b[38;5;28;01mraise\u001b[39;00m \u001b[38;5;167;01mValueError\u001b[39;00m((\u001b[38;5;124m\"\u001b[39m\u001b[38;5;124m'\u001b[39m\u001b[38;5;132;01m%s\u001b[39;00m\u001b[38;5;124m'\u001b[39m\u001b[38;5;124m was not found in history, as a file, url, \u001b[39m\u001b[38;5;124m\"\u001b[39m\n\u001b[0;32m   3912\u001b[0m                         \u001b[38;5;124m\"\u001b[39m\u001b[38;5;124mnor in the user namespace.\u001b[39m\u001b[38;5;124m\"\u001b[39m) \u001b[38;5;241m%\u001b[39m target) \u001b[38;5;28;01mfrom\u001b[39;00m\u001b[38;5;250m \u001b[39m\u001b[38;5;21;01me\u001b[39;00m\n\u001b[0;32m   3914\u001b[0m \u001b[38;5;28;01mif\u001b[39;00m \u001b[38;5;28misinstance\u001b[39m(codeobj, \u001b[38;5;28mstr\u001b[39m):\n\u001b[0;32m   3915\u001b[0m     \u001b[38;5;28;01mreturn\u001b[39;00m codeobj\n",
      "\u001b[1;31mValueError\u001b[0m: 'textfile.txt' was not found in history, as a file, url, nor in the user namespace."
     ]
    }
   ],
   "source": [
    "%load textfile.txt"
   ]
  },
  {
   "cell_type": "code",
   "execution_count": 1,
   "id": "23b09383-6e72-4719-8706-58506185c3f0",
   "metadata": {},
   "outputs": [
    {
     "name": "stdout",
     "output_type": "stream",
     "text": [
      " Volume in drive C has no label.\n",
      " Volume Serial Number is 307B-FC31\n",
      "\n",
      " Directory of C:\\Users\\HP\\Desktop\\python_course\\notebooks_lecture_notes\n",
      "\n",
      "09/25/2025  12:34 PM    <DIR>          .\n",
      "09/23/2025  09:26 PM    <DIR>          ..\n",
      "09/25/2025  12:34 PM    <DIR>          .ipynb_checkpoints\n",
      "11/20/2024  11:28 PM         3,279,789 blanche.jpg\n",
      "09/24/2025  10:58 PM             6,424 Blanchepractice.ipynb\n",
      "09/23/2025  10:55 AM             6,030 edit_mode.png\n",
      "09/23/2025  10:55 AM           194,094 Emily.png\n",
      "09/23/2025  09:43 PM         4,427,796 marieblanche-day00-report.ipynb\n",
      "09/23/2025  10:04 PM            63,482 marieblanche-day01a-report.ipynb\n",
      "09/24/2025  12:02 PM            78,820 marieblanche-day02-report.ipynb\n",
      "09/25/2025  12:34 PM            18,786 marieblanche-report-day03.ipynb\n",
      "09/23/2025  10:55 AM            17,311 menubar_toolbar.png\n",
      "09/25/2025  12:27 PM                49 textfile.txt\n",
      "09/25/2025  12:15 PM               337 Untitled.ipynb\n",
      "              11 File(s)      8,092,918 bytes\n",
      "               3 Dir(s)  110,668,275,712 bytes free\n"
     ]
    }
   ],
   "source": [
    "!dir"
   ]
  },
  {
   "cell_type": "code",
   "execution_count": 3,
   "id": "a8c8d972-8ece-4eac-a5a4-517c8c023340",
   "metadata": {},
   "outputs": [],
   "source": [
    "# %load textfile.txt\n",
    "fghij\n",
    "aims class\n",
    "Rwanda 2025\n",
    "this is really cool "
   ]
  },
  {
   "cell_type": "code",
   "execution_count": 9,
   "id": "d41a8483-663f-4612-a5da-4b673159c05f",
   "metadata": {},
   "outputs": [
    {
     "data": {
      "text/plain": [
       "'fghij\\naims class\\nRwanda 2025\\nthis is really cool '"
      ]
     },
     "execution_count": 9,
     "metadata": {},
     "output_type": "execute_result"
    }
   ],
   "source": [
    "file = open('textfile.txt', \"r\")\n",
    "file.read()"
   ]
  },
  {
   "cell_type": "code",
   "execution_count": 10,
   "id": "f7ef742a-059c-436e-8cf0-dc8c0c31c62b",
   "metadata": {},
   "outputs": [],
   "source": [
    "file.close()"
   ]
  },
  {
   "cell_type": "code",
   "execution_count": 11,
   "id": "33ddc217-67cf-47cc-aca7-da0bed0ac418",
   "metadata": {},
   "outputs": [
    {
     "ename": "ValueError",
     "evalue": "I/O operation on closed file.",
     "output_type": "error",
     "traceback": [
      "\u001b[1;31m---------------------------------------------------------------------------\u001b[0m",
      "\u001b[1;31mValueError\u001b[0m                                Traceback (most recent call last)",
      "Cell \u001b[1;32mIn[11], line 1\u001b[0m\n\u001b[1;32m----> 1\u001b[0m file\u001b[38;5;241m.\u001b[39mread()\n",
      "\u001b[1;31mValueError\u001b[0m: I/O operation on closed file."
     ]
    }
   ],
   "source": [
    "file.read()"
   ]
  },
  {
   "cell_type": "code",
   "execution_count": 14,
   "id": "9f6c05e1-834c-4852-92f4-6a27e77f9c98",
   "metadata": {},
   "outputs": [],
   "source": [
    "file = open('textfile.txt', \"w\")\n",
    "file.write(\"Hello Blanche\")\n",
    "file.close()"
   ]
  },
  {
   "cell_type": "code",
   "execution_count": 15,
   "id": "4b955a30-c5ff-40d7-b2a3-dde8ccf30b66",
   "metadata": {},
   "outputs": [
    {
     "data": {
      "text/plain": [
       "'Hello Blanche'"
      ]
     },
     "execution_count": 15,
     "metadata": {},
     "output_type": "execute_result"
    }
   ],
   "source": [
    "file = open('textfile.txt', \"r\")\n",
    "file.read()"
   ]
  }
 ],
 "metadata": {
  "kernelspec": {
   "display_name": "Python [conda env:base] *",
   "language": "python",
   "name": "conda-base-py"
  },
  "language_info": {
   "codemirror_mode": {
    "name": "ipython",
    "version": 3
   },
   "file_extension": ".py",
   "mimetype": "text/x-python",
   "name": "python",
   "nbconvert_exporter": "python",
   "pygments_lexer": "ipython3",
   "version": "3.13.5"
  }
 },
 "nbformat": 4,
 "nbformat_minor": 5
}
